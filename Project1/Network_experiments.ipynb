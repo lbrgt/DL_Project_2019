{
 "cells": [
  {
   "cell_type": "markdown",
   "metadata": {},
   "source": [
    "# Experimenting with the effect of maxPooling"
   ]
  },
  {
   "cell_type": "code",
   "execution_count": 1,
   "metadata": {},
   "outputs": [],
   "source": [
    "%matplotlib inline\n",
    "\n",
    "import torch\n",
    "from torch import Tensor\n",
    "import dlc_practical_prologue as prologue\n",
    "from matplotlib import pyplot as plt\n",
    "import time\n",
    "\n",
    "from torch.autograd import Variable\n",
    "from torch import nn\n",
    "from torch.nn import functional as F"
   ]
  },
  {
   "cell_type": "code",
   "execution_count": 176,
   "metadata": {},
   "outputs": [
    {
     "name": "stdout",
     "output_type": "stream",
     "text": [
      "* Using MNIST\n",
      "** Reduce the data-set (use --full for the full thing)\n",
      "** Use 1000 train and 1000 test samples\n"
     ]
    }
   ],
   "source": [
    "# Load MNIST dataset (reduced set)\n",
    "train_input, train_target, test_input, test_target = \\\n",
    "    prologue.load_data(one_hot_labels = True, normalize = True, flatten = False)"
   ]
  },
  {
   "cell_type": "code",
   "execution_count": 177,
   "metadata": {},
   "outputs": [
    {
     "name": "stdout",
     "output_type": "stream",
     "text": [
      "train_input: torch.Size([1000, 1, 28, 28])\n",
      "test_input: torch.Size([1000, 1, 28, 28])\n",
      "train_target: torch.Size([1000, 10])\n",
      "test_target: torch.Size([1000, 10])\n"
     ]
    }
   ],
   "source": [
    "# Visualize dataset dimensions\n",
    "print('train_input:',train_input.shape)\n",
    "print('test_input:',test_input.shape)\n",
    "print('train_target:',train_target.shape)\n",
    "print('test_target:',test_target.shape)"
   ]
  },
  {
   "cell_type": "code",
   "execution_count": 190,
   "metadata": {},
   "outputs": [
    {
     "data": {
      "image/png": "[encoded data removed]",
      "text/plain": [
       "<Figure size 432x288 with 2 Axes>"
      ]
     },
     "metadata": {
      "needs_background": "light"
     },
     "output_type": "display_data"
    },
    {
     "name": "stdout",
     "output_type": "stream",
     "text": [
      "image size: torch.Size([28, 28])\n"
     ]
    }
   ],
   "source": [
    "# Dataset visualization\n",
    "sample = 582\n",
    "fig,axis = plt.subplots(1,2)\n",
    "axis[0].imshow(train_input[sample,0])\n",
    "axis[0].set_title('Class: {}'.format(torch.argmax(train_target[sample])))\n",
    "axis[1].imshow(train_input[sample+1,0])\n",
    "axis[1].set_title('Class: {}'.format(torch.argmax(train_target[sample+1])))\n",
    "plt.show()\n",
    "print('image size:',train_input[sample,0].shape)"
   ]
  },
  {
   "cell_type": "code",
   "execution_count": 192,
   "metadata": {},
   "outputs": [],
   "source": [
    "# Professor example\n",
    "class ProfessorNet(nn.Module):\n",
    "    def __init__(self):\n",
    "        super(ProfessorNet, self).__init__()\n",
    "        self.conv1 = nn.Conv2d(1, 32, kernel_size=5)\n",
    "        self.conv2 = nn.Conv2d(32, 64, kernel_size=5)\n",
    "        self.fc1 = nn.Linear(256, 200)\n",
    "        self.fc2 = nn.Linear(200, 10)\n",
    "\n",
    "    def forward(self, x):\n",
    "        x = F.relu(F.max_pool2d(self.conv1(x), kernel_size=3, stride=3))\n",
    "        x = F.relu(F.max_pool2d(self.conv2(x), kernel_size=2, stride=2))\n",
    "        x = F.relu(self.fc1(x.view(-1, 256)))\n",
    "        x = self.fc2(x)\n",
    "        return x"
   ]
  },
  {
   "cell_type": "code",
   "execution_count": 193,
   "metadata": {},
   "outputs": [],
   "source": [
    "# Derived from professor's example, without maxPooling\n",
    "class SimplifiedNet(nn.Module):\n",
    "    def __init__(self):\n",
    "        super(SimplifiedNet, self).__init__()\n",
    "        self.conv1 = nn.Conv2d(1, 32, kernel_size=5)\n",
    "        self.conv2 = nn.Conv2d(32, 64, kernel_size=5)\n",
    "        self.fc1 = nn.Linear(64*20*20, 200)\n",
    "        self.fc2 = nn.Linear(200, 10)\n",
    "\n",
    "    def forward(self, x):\n",
    "        x = F.relu(self.conv1(x))\n",
    "        x = F.relu(self.conv2(x))\n",
    "        x = F.relu(self.fc1(x.view(-1, 64*20*20)))\n",
    "        x = self.fc2(x)\n",
    "        return x"
   ]
  },
  {
   "cell_type": "code",
   "execution_count": 194,
   "metadata": {},
   "outputs": [],
   "source": [
    "# Function to train a model\n",
    "def train_model(model, train_input, train_target, mini_batch_size):\n",
    "    criterion = nn.MSELoss()\n",
    "    eta = 1e-1\n",
    "    for e in range(0, 25):\n",
    "        sum_loss = 0\n",
    "        # We do this with mini-batches\n",
    "        for b in range(0, train_input.size(0), mini_batch_size):\n",
    "            output = model(train_input.narrow(0, b, mini_batch_size))\n",
    "            loss = criterion(output, train_target.narrow(0, b, mini_batch_size))\n",
    "            sum_loss = sum_loss + loss.item()\n",
    "            model.zero_grad()\n",
    "            loss.backward()\n",
    "            for p in model.parameters():\n",
    "                p.data.sub_(eta * p.grad.data)\n",
    "        print(e, sum_loss)"
   ]
  },
  {
   "cell_type": "code",
   "execution_count": 195,
   "metadata": {},
   "outputs": [],
   "source": [
    "# Evaluate the network's performance with winner takes it all approach\n",
    "def compute_nb_errors(model, input_, target, mini_batch_size):\n",
    "    error = 0\n",
    "    for b in range(0, input_.size(0), mini_batch_size):\n",
    "        output = model(input_.narrow(0, b, mini_batch_size))\n",
    "        \n",
    "        c_array = output.argmax(1)\n",
    "        t_array = target[b:b+mini_batch_size].argmax(1)\n",
    "        error += (c_array-t_array).nonzero().size()[0]\n",
    "        \n",
    "    return error/input_.size()[0]*100"
   ]
  },
  {
   "cell_type": "code",
   "execution_count": 17,
   "metadata": {
    "collapsed": true
   },
   "outputs": [
    {
     "name": "stdout",
     "output_type": "stream",
     "text": [
      "0 0.8870525732636452\n",
      "1 0.7685782760381699\n",
      "2 0.6961821764707565\n",
      "3 0.6333322450518608\n",
      "4 0.5808088779449463\n",
      "5 0.5388898029923439\n",
      "6 0.5061322301626205\n",
      "7 0.4807812049984932\n",
      "8 0.45905613899230957\n",
      "9 0.4392935335636139\n",
      "10 0.42149854078888893\n",
      "11 0.404970396310091\n",
      "12 0.3899703547358513\n",
      "13 0.39278144761919975\n",
      "14 0.3700929917395115\n",
      "15 0.3485518004745245\n",
      "16 0.3407313097268343\n",
      "17 0.3286995254456997\n",
      "18 0.31756569631397724\n",
      "19 0.3365845810621977\n",
      "20 0.3131201360374689\n",
      "21 0.2894383352249861\n",
      "22 0.2835408467799425\n",
      "23 0.2781979199498892\n",
      "24 0.2740096766501665\n",
      "Loss on test set: 15.7 %\n"
     ]
    }
   ],
   "source": [
    "# Train the professor's model and evaluate it\n",
    "model = ProfessorNet() \n",
    "mini_batch_size = 100\n",
    "\n",
    "train_model(model, train_input, train_target, mini_batch_size)\n",
    "print('Loss on test set:', compute_nb_errors(model, test_input, test_target, mini_batch_size),'%')"
   ]
  },
  {
   "cell_type": "code",
   "execution_count": 23,
   "metadata": {
    "collapsed": true
   },
   "outputs": [
    {
     "name": "stdout",
     "output_type": "stream",
     "text": [
      "0 0.8254552185535431\n",
      "1 0.6248150393366814\n",
      "2 0.5219256095588207\n",
      "3 0.41258498281240463\n",
      "4 0.3728884756565094\n",
      "5 0.34388227574527264\n",
      "6 0.3034926690161228\n",
      "7 0.2802353519946337\n",
      "8 0.25411636382341385\n",
      "9 0.24268661998212337\n",
      "10 0.23081058077514172\n",
      "11 0.20639300346374512\n",
      "12 0.19570204615592957\n",
      "13 0.17976822145283222\n",
      "14 0.179344835691154\n",
      "15 0.16625335346907377\n",
      "16 0.1509782550856471\n",
      "17 0.1493746917694807\n",
      "18 0.1418860461562872\n",
      "19 0.1328622940927744\n",
      "20 0.12497582007199526\n",
      "21 0.12860154546797276\n",
      "22 0.12318934593349695\n",
      "23 0.11285346280783415\n",
      "24 0.10832641366869211\n",
      "Loss on test set: 8.799999999999999 %\n"
     ]
    }
   ],
   "source": [
    "# Train the simplified model and evaluate it\n",
    "model = SimplifiedNet() \n",
    "mini_batch_size = 100\n",
    "\n",
    "train_model(model, train_input, train_target, mini_batch_size)\n",
    "print('Loss on test set:', compute_nb_errors(model, test_input, test_target, mini_batch_size),'%')"
   ]
  },
  {
   "cell_type": "markdown",
   "metadata": {},
   "source": [
    "# Project 1\n",
    "Load the dataset:"
   ]
  },
  {
   "cell_type": "code",
   "execution_count": 2,
   "metadata": {},
   "outputs": [],
   "source": [
    "# Load the dataset\n",
    "nb = 1000\n",
    "train_input, train_target, train_classes, test_input, test_target, test_classes = prologue.generate_pair_sets(nb)"
   ]
  },
  {
   "cell_type": "code",
   "execution_count": 3,
   "metadata": {},
   "outputs": [
    {
     "name": "stdout",
     "output_type": "stream",
     "text": [
      "train_input: torch.Size([1000, 2, 14, 14])\n",
      "train_target: torch.Size([1000])\n",
      "train_classes: torch.Size([1000, 2])\n",
      "test_input: torch.Size([1000, 2, 14, 14])\n",
      "test_target: torch.Size([1000])\n",
      "test_classes: torch.Size([1000, 2])\n"
     ]
    }
   ],
   "source": [
    "# Display the data shape\n",
    "print('train_input:',train_input.shape)\n",
    "print('train_target:',train_target.shape)\n",
    "print('train_classes:',train_classes.shape)\n",
    "print('test_input:',test_input.shape)\n",
    "print('test_target:',test_target.shape)\n",
    "print('test_classes:',test_classes.shape)"
   ]
  },
  {
   "cell_type": "markdown",
   "metadata": {},
   "source": [
    "## Visualise the dataset"
   ]
  },
  {
   "cell_type": "code",
   "execution_count": 4,
   "metadata": {},
   "outputs": [
    {
     "data": {
      "image/png": "[encoded data removed]",
      "text/plain": [
       "<Figure size 432x288 with 2 Axes>"
      ]
     },
     "metadata": {
      "needs_background": "light"
     },
     "output_type": "display_data"
    },
    {
     "name": "stdout",
     "output_type": "stream",
     "text": [
      "Expected classification:  0\n"
     ]
    }
   ],
   "source": [
    "# Dataset visualization\n",
    "sample = 593\n",
    "fig,axis = plt.subplots(1,2)\n",
    "axis[0].imshow(train_input[sample,0])\n",
    "axis[0].set_title('Class: {}'.format(train_classes[sample,0]))\n",
    "axis[1].imshow(train_input[sample,1])\n",
    "axis[1].set_title('Class: {}'.format(train_classes[sample,1]))\n",
    "plt.show()\n",
    "print('Expected classification: ',train_target[sample].item())"
   ]
  },
  {
   "cell_type": "markdown",
   "metadata": {},
   "source": [
    "## Network Architecture\n",
    "Define a module responsible for recognizing the classes and another that will identify if the first digit is less or equal to the second."
   ]
  },
  {
   "cell_type": "markdown",
   "metadata": {},
   "source": [
    "### Class identifier"
   ]
  },
  {
   "cell_type": "code",
   "execution_count": 5,
   "metadata": {},
   "outputs": [],
   "source": [
    "# Define a Net that works with a single image (hence channel dim = 1)\n",
    "class Parallel_Net(nn.Module):\n",
    "    '''\n",
    "        Building block used to classify the digit.\n",
    "\n",
    "        Net input: Nx1x14x14 (single image)\n",
    "        Net output: 10x1\n",
    "    '''\n",
    "    def __init__(self):\n",
    "        super(Parallel_Net, self).__init__()\n",
    "        self.conv1 = nn.Conv2d(1, 32, kernel_size=5)\n",
    "        self.conv2 = nn.Conv2d(32, 64, kernel_size=3)\n",
    "        self.fc1 = nn.Linear(64*3*3, 50)\n",
    "        self.fc2 = nn.Linear(50, 20)\n",
    "        self.fc3 = nn.Linear(20, 10)\n",
    "\n",
    "    def forward(self, x):\n",
    "        x = F.relu(F.max_pool2d(self.conv1(x), kernel_size=2, stride=2))\n",
    "        x = F.relu(self.conv2(x))\n",
    "        x = F.relu(self.fc1(x.view(-1, 64*3*3)))\n",
    "        x = F.relu(self.fc2(x))\n",
    "        x = self.fc3(x)\n",
    "        return x "
   ]
  },
  {
   "cell_type": "markdown",
   "metadata": {},
   "source": [
    "### Relation identifier"
   ]
  },
  {
   "cell_type": "code",
   "execution_count": 18,
   "metadata": {},
   "outputs": [],
   "source": [
    "class Analyzer_Net(nn.Module):\n",
    "    '''\n",
    "        Building block used to infer digit's relation.\n",
    "\n",
    "        Net input: 20x1 (digit classification)\n",
    "        Net output: 1x1 (bigger or smaller)\n",
    "    '''\n",
    "    def __init__(self):\n",
    "        super(Analyzer_Net, self).__init__()\n",
    "        self.fc1 = nn.Linear(2*10, 15)\n",
    "        self.fc2 = nn.Linear(15, 10)\n",
    "        self.fc3 = nn.Linear(10, 5)\n",
    "        self.fc4 = nn.Linear(5, 2) \n",
    "        \n",
    "    def forward(self,x):\n",
    "        '''x = F.relu(self.fc1(x))\n",
    "        x = F.relu(self.fc2(x))\n",
    "        x = F.relu(self.fc3(x))\n",
    "        x = self.fc4(x)''' # torch.sigmoid() maybe?\n",
    "        x = torch.tanh(self.fc1(x))\n",
    "        x = torch.tanh(self.fc2(x))\n",
    "        x = torch.tanh(self.fc3(x))\n",
    "        x = torch.sigmoid(self.fc4(x))\n",
    "        return x"
   ]
  },
  {
   "cell_type": "markdown",
   "metadata": {},
   "source": [
    "## Build a Basic Network with only a MSE loss on the target"
   ]
  },
  {
   "cell_type": "code",
   "execution_count": 7,
   "metadata": {},
   "outputs": [],
   "source": [
    "class BasicNet(nn.Module):\n",
    "    '''\n",
    "        Net caracteristics:\n",
    "            - No weight sharing\n",
    "            - No intermediate loss\n",
    "        \n",
    "        Net input: Nx2x14x14\n",
    "        Net output: 2x1 \n",
    "    '''\n",
    "    def __init__(self):\n",
    "        super(BasicNet, self).__init__()\n",
    "        self.parallel_net1 = Parallel_Net()\n",
    "        self.parallel_net2 = Parallel_Net()\n",
    "        self.analyser_net  = Analyzer_Net()\n",
    "    \n",
    "    def forward(self,x):\n",
    "        # Split the 2 input channels\n",
    "        x1 = x[:,0,:,:].view(-1,1,14,14)\n",
    "        x2 = x[:,1,:,:].view(-1,1,14,14)\n",
    "\n",
    "        # No weight sharing (declare 2 distinct instances of Parallel_Net)\n",
    "        x1 = self.parallel_net1(x1)\n",
    "        x2 = self.parallel_net2(x2)\n",
    "\n",
    "        # Concatenate back both classification results \n",
    "        x = torch.cat((x1.view(-1,10),x2.view(-1,10)),dim=1)\n",
    "        x = self.analyser_net(x)\n",
    "\n",
    "        return x "
   ]
  },
  {
   "cell_type": "markdown",
   "metadata": {},
   "source": [
    "### Train the network"
   ]
  },
  {
   "cell_type": "code",
   "execution_count": 26,
   "metadata": {},
   "outputs": [],
   "source": [
    "def trainMSE(model, train_input, train_target, mini_batch_size):\n",
    "    train_target = train_target.type(torch.FloatTensor)\n",
    "\n",
    "    # Specify the loss function\n",
    "    criterion = nn.MSELoss()\n",
    "\n",
    "    # Define the number of epochs to train the network\n",
    "    epochs = 25\n",
    "    \n",
    "    # Set the learning rate\n",
    "    eta = 0.01\n",
    "\n",
    "    for e in range(epochs):\n",
    "        sum_loss = 0\n",
    "        for b in range(0, train_input.size(0), mini_batch_size):\n",
    "            output = model(train_input.narrow(0, b, mini_batch_size)) # dim,start,length\n",
    "            loss = criterion(output, train_target.narrow(0, b, mini_batch_size))\n",
    "            sum_loss = sum_loss + loss.item()\n",
    "            model.zero_grad()\n",
    "            loss.backward()\n",
    "            for p in model.parameters():\n",
    "                p.data.sub_(eta * p.grad.data)\n",
    "        #return\n",
    "        print('Sum of loss at epoch {}: \\t'.format(e),sum_loss)\n",
    "    \n",
    "    return model"
   ]
  },
  {
   "cell_type": "code",
   "execution_count": 9,
   "metadata": {},
   "outputs": [],
   "source": [
    "def evaluateFinalOutput(model,test_input, test_target,mini_batch_size):\n",
    "    test_target = test_target.type(torch.FloatTensor)\n",
    "    \n",
    "    with torch.no_grad():\n",
    "        error = 0\n",
    "        for b in range(0, test_input.size(0), mini_batch_size):\n",
    "            output = model(test_input.narrow(0, b, mini_batch_size))\n",
    "            for i in range(output.size(0)):\n",
    "                #print(output[i].item(),test_target.narrow(0, b, batch_size)[i].item())\n",
    "                if output[i].item() >= 0.5:\n",
    "                    if test_target.narrow(0, b, mini_batch_size)[i].item() < 0.2:\n",
    "                        error += 1\n",
    "                elif output[i].item() < 0.5:\n",
    "                    if test_target.narrow(0, b, mini_batch_size)[i].item() > 0.8:\n",
    "                        error += 1\n",
    "                else:\n",
    "                    error += 1\n",
    "    return error/test_target.size(0)*100"
   ]
  },
  {
   "cell_type": "code",
   "execution_count": 27,
   "metadata": {},
   "outputs": [
    {
     "name": "stdout",
     "output_type": "stream",
     "text": [
      "Number of trainable parameters: 99352\n"
     ]
    }
   ],
   "source": [
    "# Define the mini_batch size\n",
    "mini_batch_size = 200\n",
    "\n",
    "# Create an instance of the network\n",
    "basicModel = BasicNet()\n",
    "num_param = sum(p.numel() for p in basicModel.parameters() if p.requires_grad)\n",
    "print('Number of trainable parameters:',num_param)"
   ]
  },
  {
   "cell_type": "code",
   "execution_count": 28,
   "metadata": {
    "scrolled": true
   },
   "outputs": [
    {
     "name": "stdout",
     "output_type": "stream",
     "text": [
      "Sum of loss at epoch 0: \t 1.4364519715309143\n",
      "Sum of loss at epoch 1: \t 1.2671064138412476\n",
      "Sum of loss at epoch 2: \t 1.2653934359550476\n",
      "Sum of loss at epoch 3: \t 1.2639169991016388\n",
      "Sum of loss at epoch 4: \t 1.2626781463623047\n",
      "Sum of loss at epoch 5: \t 1.2615963518619537\n",
      "Sum of loss at epoch 6: \t 1.2606699168682098\n",
      "Sum of loss at epoch 7: \t 1.2598430216312408\n",
      "Sum of loss at epoch 8: \t 1.259132742881775\n",
      "Sum of loss at epoch 9: \t 1.25843845307827\n",
      "Sum of loss at epoch 10: \t 1.257744938135147\n",
      "Sum of loss at epoch 11: \t 1.2571662068367004\n",
      "Sum of loss at epoch 12: \t 1.2567053139209747\n",
      "Sum of loss at epoch 13: \t 1.256271868944168\n",
      "Sum of loss at epoch 14: \t 1.2558508962392807\n",
      "Sum of loss at epoch 15: \t 1.2554482817649841\n",
      "Sum of loss at epoch 16: \t 1.2550633698701859\n",
      "Sum of loss at epoch 17: \t 1.254713088274002\n",
      "Sum of loss at epoch 18: \t 1.2543928176164627\n",
      "Sum of loss at epoch 19: \t 1.2540881782770157\n",
      "Sum of loss at epoch 20: \t 1.2537960559129715\n",
      "Sum of loss at epoch 21: \t 1.2535055577754974\n",
      "Sum of loss at epoch 22: \t 1.2532324492931366\n",
      "Sum of loss at epoch 23: \t 1.2529815584421158\n",
      "Sum of loss at epoch 24: \t 1.2527200877666473\n"
     ]
    }
   ],
   "source": [
    "# Train the network\n",
    "basicModel = trainMSE(basicModel,train_input, train_target, mini_batch_size)"
   ]
  },
  {
   "cell_type": "code",
   "execution_count": 29,
   "metadata": {},
   "outputs": [
    {
     "name": "stdout",
     "output_type": "stream",
     "text": [
      "Error rate of the model:  50.1 %\n"
     ]
    }
   ],
   "source": [
    "# Evaluate the performance of the model\n",
    "res = evaluateFinalOutput(basicModel,test_input,test_target,mini_batch_size)\n",
    "print('Error rate of the model: ',res,'%')"
   ]
  },
  {
   "cell_type": "markdown",
   "metadata": {},
   "source": [
    "## Add cross-entropy loss at the classification level"
   ]
  },
  {
   "cell_type": "markdown",
   "metadata": {},
   "source": [
    "### Note: Distinction between `clone()` and `copy_()`\n",
    "Both functions allow to create a clone of a Tensor instance. The difference is that using `clone()`, this function is recorded in the computation graph. Gradients propagating to the cloned tensor will propagate to the original tensor!\n",
    "Therefore `copy_()` allows to fully separate the cloned tensor from its original version and makes it independent.\n",
    "\n",
    "Check [the doc](https://pytorch.org/docs/stable/tensors.html#torch.Tensor.clone) for more details (`copy_` is right below `clone`)."
   ]
  },
  {
   "cell_type": "code",
   "execution_count": 212,
   "metadata": {},
   "outputs": [],
   "source": [
    "# TODO"
   ]
  },
  {
   "cell_type": "markdown",
   "metadata": {},
   "source": [
    "## Train each submodule individually"
   ]
  },
  {
   "cell_type": "markdown",
   "metadata": {},
   "source": [
    "### Train the Class Identifier"
   ]
  },
  {
   "cell_type": "code",
   "execution_count": 7,
   "metadata": {},
   "outputs": [],
   "source": [
    "def trainClassIdentifier(model, train_input, train_classes, mini_batch_size):\n",
    "    \n",
    "    # Specify the loss function\n",
    "    criterion = nn.CrossEntropyLoss()\n",
    "\n",
    "    # Define the number of epochs to train the network\n",
    "    epochs = 25\n",
    "    \n",
    "    # Set the learning rate\n",
    "    eta = 0.01\n",
    "\n",
    "    for e in range(epochs):\n",
    "        sum_loss = 0\n",
    "        for b in range(0, train_input.size(0), mini_batch_size):\n",
    "            model.zero_grad()\n",
    "            for i in range(2):\n",
    "                # For each image (since there are 2 channels)\n",
    "                output = model(train_input[:,i].view(-1,1,14,14).narrow(0, b, mini_batch_size)) # dim,start,length\n",
    "                loss = criterion(output, train_classes[:,i].narrow(0, b, mini_batch_size))\n",
    "                sum_loss += loss.item()\n",
    "                loss.backward()\n",
    "            for p in model.parameters():\n",
    "                p.data.sub_(eta * p.grad.data)\n",
    "        #return\n",
    "        print('Sum of loss at epoch {}: \\t'.format(e),sum_loss)\n",
    "    \n",
    "    return model"
   ]
  },
  {
   "cell_type": "code",
   "execution_count": 8,
   "metadata": {},
   "outputs": [],
   "source": [
    "# Evaluate the network's performance with winner takes it all approach\n",
    "def evaluateClassIdentification(model, test_input, test_classes, mini_batch_size):\n",
    "    error = 0\n",
    "    for b in range(0, test_input.size(0), mini_batch_size):\n",
    "        output = model(test_input[:,0].view(-1,1,14,14).narrow(0, b, mini_batch_size))\n",
    "        \n",
    "        c_array = output.argmax(1)\n",
    "        t_array = test_classes[:,0][b:b+mini_batch_size]\n",
    "        error += (c_array-t_array).nonzero().size()[0]\n",
    "        \n",
    "    return error/test_input.size()[0]*100"
   ]
  },
  {
   "cell_type": "code",
   "execution_count": 9,
   "metadata": {},
   "outputs": [],
   "source": [
    "# Define the mini_batch size\n",
    "mini_batch_size = 200\n",
    "\n",
    "# Instantiate the model\n",
    "classModel = Parallel_Net()"
   ]
  },
  {
   "cell_type": "code",
   "execution_count": 10,
   "metadata": {
    "scrolled": false
   },
   "outputs": [
    {
     "name": "stdout",
     "output_type": "stream",
     "text": [
      "Sum of loss at epoch 0: \t 60.63195204734802\n",
      "Sum of loss at epoch 1: \t 22.20393466949463\n",
      "Sum of loss at epoch 2: \t 20.315518379211426\n",
      "Sum of loss at epoch 3: \t 19.85521388053894\n",
      "Sum of loss at epoch 4: \t 18.008901953697205\n",
      "Sum of loss at epoch 5: \t 12.561357140541077\n",
      "Sum of loss at epoch 6: \t 13.687849044799805\n",
      "Sum of loss at epoch 7: \t 10.33372688293457\n",
      "Sum of loss at epoch 8: \t 7.455751061439514\n",
      "Sum of loss at epoch 9: \t 6.146078497171402\n",
      "Sum of loss at epoch 10: \t 6.269042432308197\n",
      "Sum of loss at epoch 11: \t 4.6116723120212555\n",
      "Sum of loss at epoch 12: \t 5.821642756462097\n",
      "Sum of loss at epoch 13: \t 3.4021140038967133\n",
      "Sum of loss at epoch 14: \t 2.979199454188347\n",
      "Sum of loss at epoch 15: \t 4.020108565688133\n",
      "Sum of loss at epoch 16: \t 2.457531914114952\n",
      "Sum of loss at epoch 17: \t 3.018318757414818\n",
      "Sum of loss at epoch 18: \t 3.0352158695459366\n",
      "Sum of loss at epoch 19: \t 1.943548545241356\n",
      "Sum of loss at epoch 20: \t 1.7361843436956406\n",
      "Sum of loss at epoch 21: \t 1.597754642367363\n",
      "Sum of loss at epoch 22: \t 1.5227702409029007\n",
      "Sum of loss at epoch 23: \t 1.399191565811634\n",
      "Sum of loss at epoch 24: \t 1.5717825889587402\n"
     ]
    }
   ],
   "source": [
    "classModel = trainClassIdentifier(classModel, train_input, train_classes, mini_batch_size)"
   ]
  },
  {
   "cell_type": "code",
   "execution_count": 40,
   "metadata": {},
   "outputs": [
    {
     "name": "stdout",
     "output_type": "stream",
     "text": [
      "Error rate of the model:  7.199999999999999 %\n"
     ]
    }
   ],
   "source": [
    "# Evaluate the class identification of the model\n",
    "res = evaluateClassIdentification(classModel, test_input, test_classes, mini_batch_size)\n",
    "print('Error rate of the model: ',res,'%')"
   ]
  },
  {
   "cell_type": "markdown",
   "metadata": {},
   "source": [
    "### Train the Analyzer"
   ]
  },
  {
   "cell_type": "code",
   "execution_count": 25,
   "metadata": {},
   "outputs": [],
   "source": [
    "def trainAnalyzer(model, train_classes, train_target, mini_batch_size):\n",
    "    #train_target = train_target.type(torch.FloatTensor)\n",
    "    # Classify into one-hot\n",
    "    train_target_oneHot = torch.eye(2)[train_target]\n",
    "    \n",
    "    # Specify the loss function\n",
    "    criterion = nn.MSELoss(reduction='mean')\n",
    "\n",
    "    # Define the number of epochs to train the network\n",
    "    epochs = 25\n",
    "    \n",
    "    # Set the learning rate\n",
    "    eta = 1e-0\n",
    "    optimizer = torch.optim.SGD(model.parameters(), lr = eta)\n",
    "    \n",
    "    # One hot encode the training classes and concatenate them (1000x2)->(1000x2x10)\n",
    "    train_oneHot = torch.empty([train_classes.shape[0],2,10])\n",
    "    train_oneHot[:,0] = torch.eye(10)[train_classes[:,0]]\n",
    "    train_oneHot[:,1] = torch.eye(10)[train_classes[:,1]]\n",
    "    # Convert to the format expected by the Analyzer (1000x20)\n",
    "    train_oneHot_cat = torch.cat([train_oneHot[:,0],train_oneHot[:,1]],dim=1)\n",
    "\n",
    "    for e in range(epochs):\n",
    "        sum_loss = 0\n",
    "        for b in range(0, train_oneHot_cat.size(0), mini_batch_size):\n",
    "            model.zero_grad()\n",
    "            output = model(train_oneHot_cat.narrow(0, b, mini_batch_size)) # dim,start,length\n",
    "            loss = criterion(output, train_target_oneHot.narrow(0, b, mini_batch_size))\n",
    "            sum_loss += loss.item()\n",
    "            loss.backward()\n",
    "            optimizer.step()\n",
    "            '''for p in model.parameters():\n",
    "                p.data.sub_(eta * p.grad.data)'''\n",
    "        #return\n",
    "        print('Sum of loss at epoch {}: \\t'.format(e),sum_loss)\n",
    "    \n",
    "    return model"
   ]
  },
  {
   "cell_type": "code",
   "execution_count": 21,
   "metadata": {
    "collapsed": true
   },
   "outputs": [
    {
     "name": "stdout",
     "output_type": "stream",
     "text": [
      "tensor([[0., 0., 0., 0., 0., 0., 0., 0., 0., 1.],\n",
      "        [0., 0., 0., 0., 0., 1., 0., 0., 0., 0.],\n",
      "        [0., 0., 0., 0., 0., 0., 0., 1., 0., 0.],\n",
      "        [0., 0., 0., 0., 0., 0., 0., 0., 0., 1.],\n",
      "        [0., 0., 0., 0., 0., 0., 0., 0., 1., 0.],\n",
      "        [0., 0., 0., 0., 0., 0., 0., 1., 0., 0.],\n",
      "        [0., 0., 0., 0., 0., 0., 0., 0., 1., 0.],\n",
      "        [0., 0., 0., 0., 1., 0., 0., 0., 0., 0.],\n",
      "        [0., 0., 0., 0., 0., 0., 1., 0., 0., 0.],\n",
      "        [0., 0., 0., 0., 0., 0., 0., 0., 0., 1.]])\n",
      "tensor([9, 5, 7, 9, 8, 7, 8, 4, 6, 9])\n",
      "tensor([[0., 0., 0., 0., 0., 0., 0., 0., 0., 1., 0., 0., 0., 1., 0., 0., 0., 0.,\n",
      "         0., 0.],\n",
      "        [0., 0., 0., 0., 0., 1., 0., 0., 0., 0., 0., 0., 0., 0., 1., 0., 0., 0.,\n",
      "         0., 0.],\n",
      "        [0., 0., 0., 0., 0., 0., 0., 1., 0., 0., 0., 0., 0., 0., 1., 0., 0., 0.,\n",
      "         0., 0.],\n",
      "        [0., 0., 0., 0., 0., 0., 0., 0., 0., 1., 0., 0., 0., 0., 0., 0., 1., 0.,\n",
      "         0., 0.],\n",
      "        [0., 0., 0., 0., 0., 0., 0., 0., 1., 0., 0., 0., 0., 0., 0., 0., 0., 0.,\n",
      "         1., 0.],\n",
      "        [0., 0., 0., 0., 0., 0., 0., 1., 0., 0., 0., 0., 0., 0., 1., 0., 0., 0.,\n",
      "         0., 0.],\n",
      "        [0., 0., 0., 0., 0., 0., 0., 0., 1., 0., 0., 0., 0., 0., 0., 0., 0., 0.,\n",
      "         0., 1.],\n",
      "        [0., 0., 0., 0., 1., 0., 0., 0., 0., 0., 1., 0., 0., 0., 0., 0., 0., 0.,\n",
      "         0., 0.],\n",
      "        [0., 0., 0., 0., 0., 0., 1., 0., 0., 0., 0., 0., 0., 0., 0., 0., 0., 0.,\n",
      "         1., 0.],\n",
      "        [0., 0., 0., 0., 0., 0., 0., 0., 0., 1., 0., 0., 0., 0., 0., 0., 0., 0.,\n",
      "         0., 1.]])\n",
      "tensor([9, 5, 7, 9, 8, 7, 8, 4, 6, 9]) tensor([3, 4, 4, 6, 8, 4, 9, 0, 8, 9])\n",
      "tensor([0, 0, 0, 0, 1, 0, 1, 0, 1, 1])\n",
      "tensor([[1., 0.],\n",
      "        [1., 0.],\n",
      "        [1., 0.],\n",
      "        [1., 0.],\n",
      "        [0., 1.],\n",
      "        [1., 0.],\n",
      "        [0., 1.],\n",
      "        [1., 0.],\n",
      "        [0., 1.],\n",
      "        [0., 1.]])\n",
      "tensor([0, 0, 0, 0, 1, 0, 1, 0, 1, 1])\n"
     ]
    }
   ],
   "source": [
    "# Verifiy One Hot encoding and concatenation\n",
    "train_oneHot = torch.empty([train_classes.shape[0],2,10])\n",
    "train_oneHot[:,0] = torch.eye(10)[train_classes[:,0]]\n",
    "train_oneHot[:,1] = torch.eye(10)[train_classes[:,1]]\n",
    "train_oh_cat = torch.cat([train_oneHot[:,0],train_oneHot[:,1]],dim=1)\n",
    "print(train_oneHot[0:10,0])\n",
    "print(train_classes[0:10,0])\n",
    "print(train_oh_cat[0:10])\n",
    "print(train_classes[0:10,0],train_classes[0:10,1])\n",
    "print(train_target[0:10])\n",
    "\n",
    "train_target_binary = torch.eye(2)[train_target]\n",
    "print(train_target_binary[0:10])\n",
    "print(train_target[0:10])"
   ]
  },
  {
   "cell_type": "code",
   "execution_count": 44,
   "metadata": {},
   "outputs": [],
   "source": [
    "def evaluateAnalyzer(model,test_classes, test_target,mini_batch_size):\n",
    "    #test_target = test_target.type(torch.FloatTensor)\n",
    "    train_target_oneHot = torch.eye(2)[train_target]\n",
    "    \n",
    "    # One hot encode the training classes and concatenate them (1000x2)->(1000x2x10)\n",
    "    test_oneHot = torch.empty([test_classes.shape[0],2,10])\n",
    "    test_oneHot[:,0] = torch.eye(10)[test_classes[:,0]]\n",
    "    test_oneHot[:,1] = torch.eye(10)[test_classes[:,1]]\n",
    "    # Convert to the format expected by the Analyzer (1000x20)\n",
    "    test_oneHot_cat = torch.cat([test_oneHot[:,0],test_oneHot[:,1]],dim=1)\n",
    "    \n",
    "    with torch.no_grad():\n",
    "        error = 0\n",
    "        for b in range(0, test_oneHot_cat.size(0), mini_batch_size):\n",
    "            output = model(test_oneHot_cat.narrow(0, b, mini_batch_size))\n",
    "            \n",
    "            '''samp = 143\n",
    "            print(output[samp].item())\n",
    "            print(test_target[b+samp].item())\n",
    "            print(test_oneHot_cat.narrow(0, b, mini_batch_size)[samp])\n",
    "            return'''\n",
    "            \n",
    "            for i in range(output.size(0)):\n",
    "                if torch.argmax(output[i]).item() >= 0.5:\n",
    "                    if test_target.narrow(0, b, mini_batch_size)[i].item() < 0.2:\n",
    "                        error += 1\n",
    "                elif torch.argmax(output[i]).item() < 0.5:\n",
    "                    if test_target.narrow(0, b, mini_batch_size)[i].item() > 0.8:\n",
    "                        error += 1\n",
    "                else:\n",
    "                    error += 1\n",
    "    return error/test_target.size(0)*100"
   ]
  },
  {
   "cell_type": "code",
   "execution_count": 45,
   "metadata": {},
   "outputs": [],
   "source": [
    "# Define the mini_batch size\n",
    "mini_batch_size = 200\n",
    "\n",
    "# Instantiate the model\n",
    "analyzerModel = Analyzer_Net()"
   ]
  },
  {
   "cell_type": "code",
   "execution_count": 46,
   "metadata": {
    "scrolled": false
   },
   "outputs": [
    {
     "name": "stdout",
     "output_type": "stream",
     "text": [
      "Sum of loss at epoch 0: \t 1.2639853060245514\n",
      "Sum of loss at epoch 1: \t 1.2460277378559113\n",
      "Sum of loss at epoch 2: \t 1.2381724119186401\n",
      "Sum of loss at epoch 3: \t 1.2335583567619324\n",
      "Sum of loss at epoch 4: \t 1.2296762764453888\n",
      "Sum of loss at epoch 5: \t 1.2253766357898712\n",
      "Sum of loss at epoch 6: \t 1.2197979241609573\n",
      "Sum of loss at epoch 7: \t 1.2118326872587204\n",
      "Sum of loss at epoch 8: \t 1.1995779275894165\n",
      "Sum of loss at epoch 9: \t 1.1793096959590912\n",
      "Sum of loss at epoch 10: \t 1.1431872993707657\n",
      "Sum of loss at epoch 11: \t 1.0745759159326553\n",
      "Sum of loss at epoch 12: \t 0.9451175630092621\n",
      "Sum of loss at epoch 13: \t 0.7439098805189133\n",
      "Sum of loss at epoch 14: \t 0.533257432281971\n",
      "Sum of loss at epoch 15: \t 0.39170412719249725\n",
      "Sum of loss at epoch 16: \t 0.30550817027688026\n",
      "Sum of loss at epoch 17: \t 0.21205883845686913\n",
      "Sum of loss at epoch 18: \t 0.3185892552137375\n",
      "Sum of loss at epoch 19: \t 0.32614798843860626\n",
      "Sum of loss at epoch 20: \t 0.30627647414803505\n",
      "Sum of loss at epoch 21: \t 0.1335315015166998\n",
      "Sum of loss at epoch 22: \t 0.10741676203906536\n",
      "Sum of loss at epoch 23: \t 0.2247218918055296\n",
      "Sum of loss at epoch 24: \t 0.26403797790408134\n"
     ]
    }
   ],
   "source": [
    "analyzerModel = trainAnalyzer(analyzerModel, train_classes, train_target, mini_batch_size)"
   ]
  },
  {
   "cell_type": "code",
   "execution_count": 47,
   "metadata": {},
   "outputs": [
    {
     "name": "stdout",
     "output_type": "stream",
     "text": [
      "Error rate of the model:  11.1 %\n"
     ]
    }
   ],
   "source": [
    "# Evaluate the relation prediction between the digit of the model\n",
    "res = evaluateAnalyzer(analyzerModel,test_classes,test_target,mini_batch_size)\n",
    "print('Error rate of the model: ',res,'%')"
   ]
  },
  {
   "cell_type": "code",
   "execution_count": null,
   "metadata": {},
   "outputs": [],
   "source": []
  }
 ],
 "metadata": {
  "kernelspec": {
   "display_name": "Python 3",
   "language": "python",
   "name": "python3"
  },
  "language_info": {
   "codemirror_mode": {
    "name": "ipython",
    "version": 3
   },
   "file_extension": ".py",
   "mimetype": "text/x-python",
   "name": "python",
   "nbconvert_exporter": "python",
   "pygments_lexer": "ipython3",
   "version": "3.7.2"
  }
 },
 "nbformat": 4,
 "nbformat_minor": 2
}
